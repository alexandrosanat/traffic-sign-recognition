{
 "cells": [
  {
   "cell_type": "code",
   "execution_count": 1,
   "metadata": {},
   "outputs": [
    {
     "name": "stdout",
     "output_type": "stream",
     "text": [
      "2.4.1\n",
      "TensorFlow version: 2.4.1\n",
      "Keras version: 2.4.0\n"
     ]
    }
   ],
   "source": [
    "import os\n",
    "import zipfile\n",
    "import tensorflow as tf\n",
    "from tensorflow.keras.optimizers import RMSprop\n",
    "from tensorflow.keras.preprocessing.image import ImageDataGenerator\n",
    "from tensorflow.keras import layers\n",
    "from tensorflow.keras import Model\n",
    "import requests\n",
    "import numpy as np\n",
    "import pandas as pd\n",
    "import matplotlib.pyplot as plt\n",
    "import datetime\n",
    "\n",
    "print(tf.__version__)\n",
    "print('TensorFlow version:',tf.__version__)\n",
    "print('Keras version:',tf.keras.__version__)"
   ]
  },
  {
   "cell_type": "code",
   "execution_count": 2,
   "metadata": {},
   "outputs": [],
   "source": [
    "physical_devices = tf.config.list_physical_devices(\"GPU\")\n",
    "tf.config.experimental.set_memory_growth(physical_devices[0], True)"
   ]
  },
  {
   "cell_type": "code",
   "execution_count": 3,
   "metadata": {},
   "outputs": [
    {
     "name": "stdout",
     "output_type": "stream",
     "text": [
      "134.0\n",
      "125.0\n"
     ]
    }
   ],
   "source": [
    "classes = pd.read_csv(\"data/Train.csv\")\n",
    "\n",
    "min_width, max_width = max(classes.Width), min(classes.Width)\n",
    "min_height, max_height = max(classes.Height), min(classes.Height)\n",
    "\n",
    "print(np.mean([min_width, max_width]))\n",
    "print(np.mean([min_height, max_height]))"
   ]
  },
  {
   "cell_type": "code",
   "execution_count": 4,
   "metadata": {},
   "outputs": [
    {
     "name": "stdout",
     "output_type": "stream",
     "text": [
      "There are 43 unique classes in the dataset.\n"
     ]
    }
   ],
   "source": [
    "classes_no = len(classes.ClassId.unique())\n",
    "print(\"There are {} unique classes in the dataset.\".format(classes_no))"
   ]
  },
  {
   "cell_type": "markdown",
   "metadata": {},
   "source": [
    "Load the data and use data augmentation"
   ]
  },
  {
   "cell_type": "code",
   "execution_count": 5,
   "metadata": {},
   "outputs": [],
   "source": [
    "cwd = os.getcwd()\n",
    "base_dir = os.path.join(cwd, 'data')\n",
    "train_path= os.path.join(base_dir, 'Train')\n",
    "test_path= os.path.join(base_dir, 'Test')"
   ]
  },
  {
   "cell_type": "code",
   "execution_count": 6,
   "metadata": {},
   "outputs": [],
   "source": [
    "BATCH_SIZE = 150\n",
    "STEPS_PER_EPOCH = 2000\n",
    "TARGET_SIZE = (32, 32)"
   ]
  },
  {
   "cell_type": "code",
   "execution_count": 7,
   "metadata": {},
   "outputs": [
    {
     "name": "stdout",
     "output_type": "stream",
     "text": [
      "Found 31368 images belonging to 43 classes.\n",
      "Found 7841 images belonging to 43 classes.\n",
      "Found 12630 images belonging to 43 classes.\n"
     ]
    }
   ],
   "source": [
    "# Create a data generator for the training images\n",
    "train_datagen = ImageDataGenerator(\n",
    "                                rescale=1./255,\n",
    "                                rotation_range=10,\n",
    "                                width_shift_range=0.1,\n",
    "                                height_shift_range=0.1,\n",
    "                                zoom_range=0.2,\n",
    "                                validation_split=0.2)  # val 20%\n",
    "\n",
    "# Create a data generator for the validation images\n",
    "val_datagen = ImageDataGenerator(rescale=1./255, validation_split=0.2)\n",
    "\n",
    "#Split data to training and validation datasets\n",
    "train_data = train_datagen.flow_from_directory(train_path, \n",
    "                                               target_size=TARGET_SIZE, \n",
    "                                               color_mode='grayscale',\n",
    "                                               batch_size=BATCH_SIZE, \n",
    "                                               class_mode='categorical',\n",
    "                                               shuffle=True,\n",
    "                                               seed=2,\n",
    "                                               subset = 'training') \n",
    "\n",
    "val_data = val_datagen.flow_from_directory(train_path, \n",
    "                                           target_size=TARGET_SIZE, \n",
    "                                           color_mode='grayscale',\n",
    "                                           batch_size=BATCH_SIZE, \n",
    "                                           class_mode='categorical',\n",
    "                                           shuffle=False,\n",
    "                                           seed=2,\n",
    "                                           subset = 'validation')\n",
    "\n",
    "datagen = ImageDataGenerator(rescale=1./255)\n",
    "test_data = datagen.flow_from_directory(test_path,\n",
    "                                        target_size=TARGET_SIZE, \n",
    "                                        color_mode='grayscale',\n",
    "                                        class_mode='categorical',\n",
    "                                        batch_size=BATCH_SIZE, \n",
    "                                        shuffle=True)"
   ]
  },
  {
   "cell_type": "code",
   "execution_count": 8,
   "metadata": {},
   "outputs": [],
   "source": [
    "X_batch, y_batch = next(train_data, 15)"
   ]
  },
  {
   "cell_type": "code",
   "execution_count": 9,
   "metadata": {},
   "outputs": [
    {
     "data": {
      "image/png": "[encoded data removed]",
      "text/plain": [
       "<Figure size 1440x360 with 15 Axes>"
      ]
     },
     "metadata": {
      "needs_background": "light"
     },
     "output_type": "display_data"
    }
   ],
   "source": [
    "fig, ax = plt.subplots(1, 15, figsize=(20, 5))\n",
    "fig.tight_layout()\n",
    "\n",
    "for i in range(15):\n",
    "    ax[i].imshow(X_batch[i].reshape(32, 32))\n",
    "    plt.axis(\"off\")"
   ]
  },
  {
   "cell_type": "code",
   "execution_count": 10,
   "metadata": {},
   "outputs": [],
   "source": [
    "ACCURACY_THRESHOLD = 0.98\n",
    "\n",
    "class myCallback(tf.keras.callbacks.Callback):\n",
    "\n",
    "    def on_epoch_end(self, epoch, logs={}):\n",
    "        if(logs.get('accuracy') > ACCURACY_THRESHOLD):\n",
    "            print(\"\\nReached 98% accuracy so cancelling training!\")\n",
    "            self.model.stop_training = True\n",
    "\n",
    "callback = myCallback()"
   ]
  },
  {
   "cell_type": "markdown",
   "metadata": {},
   "source": [
    "LeNEt 5 model    "
   ]
  },
  {
   "cell_type": "code",
   "execution_count": 11,
   "metadata": {},
   "outputs": [],
   "source": [
    "def leNet():\n",
    "    \n",
    "    filters_no=60\n",
    "    filter_size=(5,5)\n",
    "    filter_size2=(3,3)\n",
    "    size_of_pool=(2,2)\n",
    "    no_of_nodes=500\n",
    "\n",
    "    model = tf.keras.Sequential()\n",
    "\n",
    "    model.add(layers.Conv2D(filters=filters_no, kernel_size=filter_size, activation='relu', input_shape=(32, 32, 1)))\n",
    "    \n",
    "    model.add(layers.Conv2D(filters=filters_no, kernel_size=filter_size, activation='relu'))\n",
    "    \n",
    "    model.add(layers.MaxPooling2D(pool_size=size_of_pool))\n",
    "\n",
    "    model.add(layers.Conv2D(filters=filters_no//2, kernel_size=filter_size2, activation='relu'))\n",
    "    \n",
    "    model.add(layers.Conv2D(filters=filters_no//2, kernel_size=filter_size2, activation='relu'))\n",
    "\n",
    "    model.add(layers.MaxPooling2D(pool_size=size_of_pool))\n",
    "\n",
    "    model.add(layers.Dropout(0.5))\n",
    "\n",
    "    model.add(layers.Flatten())\n",
    "\n",
    "    model.add(layers.Dense(units=no_of_nodes, activation='relu'))\n",
    "\n",
    "    model.add(layers.Dropout(0.5))\n",
    "    \n",
    "    model.add(layers.Dense(units=classes_no, activation = 'softmax'))\n",
    "    \n",
    "    return model"
   ]
  },
  {
   "cell_type": "code",
   "execution_count": 12,
   "metadata": {},
   "outputs": [
    {
     "name": "stdout",
     "output_type": "stream",
     "text": [
      "Model: \"sequential\"\n",
      "_________________________________________________________________\n",
      "Layer (type)                 Output Shape              Param #   \n",
      "=================================================================\n",
      "conv2d (Conv2D)              (None, 28, 28, 60)        1560      \n",
      "_________________________________________________________________\n",
      "conv2d_1 (Conv2D)            (None, 24, 24, 60)        90060     \n",
      "_________________________________________________________________\n",
      "max_pooling2d (MaxPooling2D) (None, 12, 12, 60)        0         \n",
      "_________________________________________________________________\n",
      "conv2d_2 (Conv2D)            (None, 10, 10, 30)        16230     \n",
      "_________________________________________________________________\n",
      "conv2d_3 (Conv2D)            (None, 8, 8, 30)          8130      \n",
      "_________________________________________________________________\n",
      "max_pooling2d_1 (MaxPooling2 (None, 4, 4, 30)          0         \n",
      "_________________________________________________________________\n",
      "dropout (Dropout)            (None, 4, 4, 30)          0         \n",
      "_________________________________________________________________\n",
      "flatten (Flatten)            (None, 480)               0         \n",
      "_________________________________________________________________\n",
      "dense (Dense)                (None, 500)               240500    \n",
      "_________________________________________________________________\n",
      "dropout_1 (Dropout)          (None, 500)               0         \n",
      "_________________________________________________________________\n",
      "dense_1 (Dense)              (None, 43)                21543     \n",
      "=================================================================\n",
      "Total params: 378,023\n",
      "Trainable params: 378,023\n",
      "Non-trainable params: 0\n",
      "_________________________________________________________________\n"
     ]
    }
   ],
   "source": [
    "from tensorflow.keras.optimizers import Adam\n",
    "\n",
    "lenet = leNet()\n",
    "lenet.compile(optimizer=Adam(lr=0.0001), loss='categorical_crossentropy', metrics=['accuracy'])\n",
    "lenet.summary()"
   ]
  },
  {
   "cell_type": "code",
   "execution_count": 13,
   "metadata": {},
   "outputs": [
    {
     "name": "stdout",
     "output_type": "stream",
     "text": [
      "2021-04-11 19:30:19.924823\n"
     ]
    }
   ],
   "source": [
    "start_time = datetime.datetime.now()\n",
    "print(start_time)"
   ]
  },
  {
   "cell_type": "code",
   "execution_count": 14,
   "metadata": {
    "tags": []
   },
   "outputs": [
    {
     "name": "stdout",
     "output_type": "stream",
     "text": [
      "Epoch 1/220\n",
      "209/209 [==============================] - 227s 1s/step - loss: 3.6570 - accuracy: 0.0476 - val_loss: 3.4474 - val_accuracy: 0.1009\n",
      "Epoch 2/220\n",
      "209/209 [==============================] - 26s 122ms/step - loss: 3.4036 - accuracy: 0.0947 - val_loss: 2.9472 - val_accuracy: 0.2451\n",
      "Epoch 3/220\n",
      "209/209 [==============================] - 25s 120ms/step - loss: 3.0450 - accuracy: 0.1899 - val_loss: 2.3871 - val_accuracy: 0.3645\n",
      "Epoch 4/220\n",
      "209/209 [==============================] - 25s 121ms/step - loss: 2.6827 - accuracy: 0.2748 - val_loss: 1.9616 - val_accuracy: 0.4409\n",
      "Epoch 5/220\n",
      "209/209 [==============================] - 26s 124ms/step - loss: 2.3851 - accuracy: 0.3368 - val_loss: 1.7102 - val_accuracy: 0.5046\n",
      "Epoch 6/220\n",
      "209/209 [==============================] - 27s 128ms/step - loss: 2.1566 - accuracy: 0.3883 - val_loss: 1.4780 - val_accuracy: 0.5640\n",
      "Epoch 7/220\n",
      "209/209 [==============================] - 25s 120ms/step - loss: 1.9735 - accuracy: 0.4357 - val_loss: 1.3458 - val_accuracy: 0.5941\n",
      "Epoch 8/220\n",
      "209/209 [==============================] - 25s 119ms/step - loss: 1.8215 - accuracy: 0.4709 - val_loss: 1.2060 - val_accuracy: 0.6287\n",
      "Epoch 9/220\n",
      "209/209 [==============================] - 27s 129ms/step - loss: 1.7161 - accuracy: 0.4920 - val_loss: 1.0986 - val_accuracy: 0.6662\n",
      "Epoch 10/220\n",
      "209/209 [==============================] - 26s 126ms/step - loss: 1.6174 - accuracy: 0.5199 - val_loss: 1.0297 - val_accuracy: 0.6885\n",
      "Epoch 11/220\n",
      "209/209 [==============================] - 25s 121ms/step - loss: 1.5231 - accuracy: 0.5450 - val_loss: 0.9271 - val_accuracy: 0.724455 - accuracy: 0.54 - ETA: 2s - ETA: 0s - loss: 1.5239 - \n",
      "Epoch 12/220\n",
      "209/209 [==============================] - 26s 123ms/step - loss: 1.4264 - accuracy: 0.5717 - val_loss: 0.8582 - val_accuracy: 0.7329\n",
      "Epoch 13/220\n",
      "209/209 [==============================] - 26s 122ms/step - loss: 1.3712 - accuracy: 0.5840 - val_loss: 0.8336 - val_accuracy: 0.7471 - loss: 1.3755 - accuracy:  - ETA: 5s - loss: 1.3754 - ac\n",
      "Epoch 14/220\n",
      "209/209 [==============================] - 25s 122ms/step - loss: 1.2873 - accuracy: 0.6069 - val_loss: 0.7599 - val_accuracy: 0.7695\n",
      "Epoch 15/220\n",
      "209/209 [==============================] - 25s 120ms/step - loss: 1.2595 - accuracy: 0.6126 - val_loss: 0.7157 - val_accuracy: 0.7806\n",
      "Epoch 16/220\n",
      "209/209 [==============================] - 25s 121ms/step - loss: 1.2025 - accuracy: 0.6319 - val_loss: 0.6781 - val_accuracy: 0.7883\n",
      "Epoch 17/220\n",
      "209/209 [==============================] - 26s 126ms/step - loss: 1.1553 - accuracy: 0.6464 - val_loss: 0.6356 - val_accuracy: 0.8062ETA - ETA: 1s - loss: 1\n",
      "Epoch 18/220\n",
      "209/209 [==============================] - 25s 119ms/step - loss: 1.1232 - accuracy: 0.6544 - val_loss: 0.6181 - val_accuracy: 0.7979\n",
      "Epoch 19/220\n",
      "209/209 [==============================] - 25s 121ms/step - loss: 1.0733 - accuracy: 0.6702 - val_loss: 0.5817 - val_accuracy: 0.8224\n",
      "Epoch 20/220\n",
      "209/209 [==============================] - 25s 121ms/step - loss: 1.0229 - accuracy: 0.6813 - val_loss: 0.5725 - val_accuracy: 0.8165\n",
      "Epoch 21/220\n",
      "209/209 [==============================] - 25s 119ms/step - loss: 1.0138 - accuracy: 0.6855 - val_loss: 0.5274 - val_accuracy: 0.8373\n",
      "Epoch 22/220\n",
      "209/209 [==============================] - 25s 119ms/step - loss: 0.9810 - accuracy: 0.7010 - val_loss: 0.5397 - val_accuracy: 0.8253\n",
      "Epoch 23/220\n",
      "209/209 [==============================] - 24s 116ms/step - loss: 0.9398 - accuracy: 0.7149 - val_loss: 0.5128 - val_accuracy: 0.8350 loss: 0.9 - ETA:  - ETA: 7s - loss: 0.9407 - ac - ETA: 6s - l - ETA: 5s - loss: 0.9408 - accuracy: 0.71 - ETA: 5s - loss: 0.9 - ETA\n",
      "Epoch 24/220\n",
      "209/209 [==============================] - 25s 119ms/step - loss: 0.9297 - accuracy: 0.7120 - val_loss: 0.4759 - val_accuracy: 0.8456oss: 0.9550 - accuracy: 0 - ETA: 18s - loss: 0.9505 - accura - ETA: 16s - loss: 0.9448 - accuracy: 0.70 - ETA: 16s - los - ETA: 0s - loss: 0.9300 - \n",
      "Epoch 25/220\n",
      "209/209 [==============================] - 25s 119ms/step - loss: 0.9005 - accuracy: 0.7229 - val_loss: 0.4649 - val_accuracy: 0.8519\n",
      "Epoch 26/220\n",
      "209/209 [==============================] - 25s 119ms/step - loss: 0.8718 - accuracy: 0.7317 - val_loss: 0.4718 - val_accuracy: 0.8464- loss:  - ETA: 4s - ETA: 2s - loss: 0.8730 - accuracy:  - ETA: 2s - loss: 0.8729  - ETA: 1s\n",
      "Epoch 27/220\n",
      "209/209 [==============================] - 25s 120ms/step - loss: 0.8606 - accuracy: 0.7354 - val_loss: 0.4526 - val_accuracy: 0.8529\n",
      "Epoch 28/220\n",
      "209/209 [==============================] - 25s 122ms/step - loss: 0.8177 - accuracy: 0.7435 - val_loss: 0.4400 - val_accuracy: 0.855529 - accuracy: 0.745 - ETA: 15s - loss:  - ETA: 12s - loss: 0.8062 -  - ETA: 10s - loss: 0.8083 - accuracy: 0.744 - ETA: 10s - loss: 0.8085 - accuracy: 0.74  - ETA: 7s - loss: 0.8118 - accura - ETA: 7s - loss: 0.8125 -  - ETA: 6s\n",
      "Epoch 29/220\n",
      "209/209 [==============================] - 26s 127ms/step - loss: 0.8111 - accuracy: 0.7466 - val_loss: 0.4211 - val_accuracy: 0.8637\n",
      "Epoch 30/220\n",
      "209/209 [==============================] - 26s 126ms/step - loss: 0.7856 - accuracy: 0.7561 - val_loss: 0.4290 - val_accuracy: 0.8662\n",
      "Epoch 31/220\n",
      "209/209 [==============================] - 25s 118ms/step - loss: 0.7621 - accuracy: 0.7655 - val_loss: 0.4023 - val_accuracy: 0.8669 ETA: 15s - loss  - ETA: 9s - loss: 0.7646 - accuracy - ETA: 8s - loss: 0.7646 - accuracy: 0.76 - ETA: 8s - loss: 0.7646 - accuracy: 0. - ETA: 8s - loss: - E - ETA: 5s - los - ETA: 3s - loss: 0.7632 - accuracy: 0. - ETA: 3s - - ETA: 2s - loss: 0.7625 - accuracy: 0. - ETA: 1s - los - ETA: 0s - loss: 0.7622 - accu\n",
      "Epoch 32/220\n",
      "209/209 [==============================] - 25s 120ms/step - loss: 0.7537 - accuracy: 0.7649 - val_loss: 0.3995 - val_accuracy: 0.8732\n",
      "Epoch 33/220\n",
      "209/209 [==============================] - 26s 123ms/step - loss: 0.7337 - accuracy: 0.7762 - val_loss: 0.3768 - val_accuracy: 0.8783\n",
      "Epoch 34/220\n",
      "209/209 [==============================] - 26s 123ms/step - loss: 0.7373 - accuracy: 0.7730 - val_loss: 0.3625 - val_accuracy: 0.88310.7630 - accuracy: 0.76 - ETA: 14s - loss: 0.7623 - a\n",
      "Epoch 35/220\n",
      "209/209 [==============================] - 25s 121ms/step - loss: 0.6860 - accuracy: 0.7847 - val_loss: 0.3424 - val_accuracy: 0.88642 - accuracy - ETA: 9s - loss: 0.6807 - accuracy: 0. - ETA: 9s - loss: 0.6809 - ac - ETA: 8s - loss: 0.6816 - accu - ETA: 7s - l - ETA: 3s - loss: 0.6845 - accura - ETA: 3s - loss: 0.6847 \n",
      "Epoch 36/220\n",
      "209/209 [==============================] - 25s 118ms/step - loss: 0.6815 - accuracy: 0.7872 - val_loss: 0.3412 - val_accuracy: 0.8863y: 0. - ETA: 9s - loss: 0.6857  - E - ETA: 2s - loss: 0.6823 - accuracy: 0.78\n",
      "Epoch 37/220\n",
      "209/209 [==============================] - 25s 119ms/step - loss: 0.6603 - accuracy: 0.7957 - val_loss: 0.3379 - val_accuracy: 0.8897y - ETA: 14s - loss: 0.6600 - - ETA: 13s - loss: 0.66 - ETA: 11s - loss:  - ETA: 4s - loss: 0.6 - ETA - ETA: 1s - l\n",
      "Epoch 38/220\n",
      "209/209 [==============================] - 25s 122ms/step - loss: 0.6478 - accuracy: 0.7994 - val_loss: 0.3286 - val_accuracy: 0.8921\n",
      "Epoch 39/220\n",
      "209/209 [==============================] - 25s 121ms/step - loss: 0.6226 - accuracy: 0.8121 - val_loss: 0.3301 - val_accuracy: 0.8967\n",
      "Epoch 40/220\n",
      "209/209 [==============================] - 193s 926ms/step - loss: 0.6148 - accuracy: 0.8087 - val_loss: 0.3243 - val_accuracy: 0.9045\n",
      "Epoch 41/220\n",
      "209/209 [==============================] - 53s 254ms/step - loss: 0.6106 - accuracy: 0.8116 - val_loss: 0.3194 - val_accuracy: 0.8986\n",
      "Epoch 42/220\n",
      "209/209 [==============================] - 26s 122ms/step - loss: 0.6059 - accuracy: 0.8127 - val_loss: 0.3139 - val_accuracy: 0.8979: 19s - loss - ETA:  - ETA: 9s - loss: 0.609 - E - ETA: 2s - loss: 0.6066 - accuracy:  - ETA: \n",
      "Epoch 43/220\n",
      "209/209 [==============================] - 24s 117ms/step - loss: 0.5934 - accuracy: 0.8149 - val_loss: 0.3090 - val_accuracy: 0.902317s - loss: 0.6367 - accura - ETA: 16s - loss: 0.6256 - accuracy: 0. - ETA: 16s - loss: 0.6229 - acc - ETA: 1s\n",
      "Epoch 44/220\n",
      "209/209 [==============================] - 26s 125ms/step - loss: 0.5756 - accuracy: 0.8206 - val_loss: 0.2929 - val_accuracy: 0.9053\n",
      "Epoch 45/220\n",
      "209/209 [==============================] - 25s 118ms/step - loss: 0.5700 - accuracy: 0.8223 - val_loss: 0.2933 - val_accuracy: 0.9018\n",
      "Epoch 46/220\n",
      "209/209 [==============================] - 25s 122ms/step - loss: 0.5543 - accuracy: 0.8260 - val_loss: 0.2892 - val_accuracy: 0.9051\n",
      "Epoch 47/220\n",
      "209/209 [==============================] - 25s 120ms/step - loss: 0.5389 - accuracy: 0.8314 - val_loss: 0.2885 - val_accuracy: 0.9088\n",
      "Epoch 48/220\n",
      "209/209 [==============================] - 26s 123ms/step - loss: 0.5385 - accuracy: 0.8318 - val_loss: 0.2768 - val_accuracy: 0.9076\n",
      "Epoch 49/220\n",
      "209/209 [==============================] - 25s 122ms/step - loss: 0.5221 - accuracy: 0.8367 - val_loss: 0.2697 - val_accuracy: 0.9142A: 7s - loss: 0.5 -\n",
      "Epoch 50/220\n",
      "209/209 [==============================] - 25s 121ms/step - loss: 0.5229 - accuracy: 0.8365 - val_loss: 0.2606 - val_accuracy: 0.9160\n",
      "Epoch 51/220\n",
      "209/209 [==============================] - 26s 123ms/step - loss: 0.5017 - accuracy: 0.8442 - val_loss: 0.2504 - val_accuracy: 0.9213\n",
      "Epoch 52/220\n",
      "209/209 [==============================] - 24s 116ms/step - loss: 0.4860 - accuracy: 0.8465 - val_loss: 0.2608 - val_accuracy: 0.9155\n",
      "Epoch 53/220\n",
      "209/209 [==============================] - 26s 124ms/step - loss: 0.4878 - accuracy: 0.8490 - val_loss: 0.2527 - val_accuracy: 0.9210\n",
      "Epoch 54/220\n",
      "209/209 [==============================] - 26s 123ms/step - loss: 0.4787 - accuracy: 0.8507 - val_loss: 0.2495 - val_accuracy: 0.9194A: 18s - l - ETA: 15s - loss:  - ETA: 6s - loss: 0.479 - ETA:  - ETA: 0s - loss: 0.478\n",
      "Epoch 55/220\n",
      "209/209 [==============================] - 26s 126ms/step - loss: 0.4743 - accuracy: 0.8508 - val_loss: 0.2551 - val_accuracy: 0.9194s\n",
      "Epoch 56/220\n",
      "209/209 [==============================] - 25s 120ms/step - loss: 0.4662 - accuracy: 0.8567 - val_loss: 0.2422 - val_accuracy: 0.9253loss: 0.4655 -  - ETA: 1s\n",
      "Epoch 57/220\n",
      "209/209 [==============================] - 26s 124ms/step - loss: 0.4587 - accuracy: 0.8579 - val_loss: 0.2405 - val_accuracy: 0.9277\n",
      "Epoch 58/220\n",
      "209/209 [==============================] - 26s 125ms/step - loss: 0.4544 - accuracy: 0.8582 - val_loss: 0.2334 - val_accuracy: 0.9242\n",
      "Epoch 59/220\n",
      "209/209 [==============================] - 26s 127ms/step - loss: 0.4323 - accuracy: 0.8666 - val_loss: 0.2337 - val_accuracy: 0.9276\n",
      "Epoch 60/220\n",
      "209/209 [==============================] - 25s 121ms/step - loss: 0.4368 - accuracy: 0.8624 - val_loss: 0.2258 - val_accuracy: 0.9277\n",
      "Epoch 61/220\n",
      "209/209 [==============================] - 26s 126ms/step - loss: 0.4478 - accuracy: 0.8622 - val_loss: 0.2192 - val_accuracy: 0.9317\n",
      "Epoch 62/220\n",
      "209/209 [==============================] - 25s 120ms/step - loss: 0.4146 - accuracy: 0.8693 - val_loss: 0.2245 - val_accuracy: 0.9323\n",
      "Epoch 63/220\n",
      "209/209 [==============================] - 25s 121ms/step - loss: 0.4147 - accuracy: 0.8692 - val_loss: 0.2171 - val_accuracy: 0.9341\n",
      "Epoch 64/220\n",
      "209/209 [==============================] - 26s 123ms/step - loss: 0.4121 - accuracy: 0.8708 - val_loss: 0.2215 - val_accuracy: 0.93044169  -\n",
      "Epoch 65/220\n",
      "209/209 [==============================] - 25s 121ms/step - loss: 0.3881 - accuracy: 0.8798 - val_loss: 0.2118 - val_accuracy: 0.9349\n",
      "Epoch 66/220\n",
      "209/209 [==============================] - 26s 124ms/step - loss: 0.4060 - accuracy: 0.8734 - val_loss: 0.2178 - val_accuracy: 0.9341\n",
      "Epoch 67/220\n",
      "209/209 [==============================] - 26s 125ms/step - loss: 0.3909 - accuracy: 0.8801 - val_loss: 0.2128 - val_accuracy: 0.9349\n",
      "Epoch 68/220\n",
      "209/209 [==============================] - 25s 122ms/step - loss: 0.3909 - accuracy: 0.8755 - val_loss: 0.2054 - val_accuracy: 0.9347loss: 0.3962 -  - ETA: 16s - loss: 0.3959 - a - ETA: 15s - l - ETA: 2s - loss: 0 - ETA: 1s - loss: 0.391 - ETA: 0s - loss: 0.3909 - accuracy: 0.87\n",
      "Epoch 69/220\n",
      "209/209 [==============================] - 26s 125ms/step - loss: 0.3857 - accuracy: 0.8805 - val_loss: 0.1964 - val_accuracy: 0.9399\n",
      "Epoch 70/220\n",
      "209/209 [==============================] - 27s 127ms/step - loss: 0.3782 - accuracy: 0.8825 - val_loss: 0.2067 - val_accuracy: 0.9355\n",
      "Epoch 71/220\n",
      "209/209 [==============================] - 26s 125ms/step - loss: 0.3749 - accuracy: 0.8833 - val_loss: 0.1956 - val_accuracy: 0.9409\n",
      "Epoch 72/220\n",
      "209/209 [==============================] - 26s 123ms/step - loss: 0.3576 - accuracy: 0.8880 - val_loss: 0.2090 - val_accuracy: 0.9338\n",
      "Epoch 73/220\n",
      "209/209 [==============================] - 25s 121ms/step - loss: 0.3678 - accuracy: 0.8880 - val_loss: 0.2061 - val_accuracy: 0.9372 0.3670 - accuracy: 0.8 -\n",
      "Epoch 74/220\n",
      "209/209 [==============================] - 25s 122ms/step - loss: 0.3538 - accuracy: 0.8898 - val_loss: 0.1925 - val_accuracy: 0.9422\n",
      "Epoch 75/220\n",
      "209/209 [==============================] - 25s 121ms/step - loss: 0.3331 - accuracy: 0.8972 - val_loss: 0.1904 - val_accuracy: 0.9421- loss: 0.3343 - accuracy: 0. - ETA: 18s - loss: 0.3340 - accuracy: 0. - ETA: 17s - loss: 0.3337 - acc - ETA: 16s - loss: 0.3334 - accura  - ETA: 1s -\n",
      "Epoch 76/220\n",
      "209/209 [==============================] - 25s 122ms/step - loss: 0.3542 - accuracy: 0.8887 - val_loss: 0.1932 - val_accuracy: 0.9399\n",
      "Epoch 77/220\n",
      "209/209 [==============================] - 28s 132ms/step - loss: 0.3423 - accuracy: 0.8938 - val_loss: 0.1864 - val_accuracy: 0.9423\n",
      "Epoch 78/220\n",
      "209/209 [==============================] - 26s 126ms/step - loss: 0.3372 - accuracy: 0.8923 - val_loss: 0.1980 - val_accuracy: 0.9346\n",
      "Epoch 79/220\n",
      "209/209 [==============================] - 25s 121ms/step - loss: 0.3319 - accuracy: 0.8955 - val_loss: 0.1849 - val_accuracy: 0.9419- loss: - ETA: 0s - loss: 0.3320 - accura\n",
      "Epoch 80/220\n",
      "209/209 [==============================] - 26s 124ms/step - loss: 0.3213 - accuracy: 0.8976 - val_loss: 0.1775 - val_accuracy: 0.9449\n",
      "Epoch 81/220\n",
      "209/209 [==============================] - 25s 122ms/step - loss: 0.3289 - accuracy: 0.8965 - val_loss: 0.1807 - val_accuracy: 0.9447\n",
      "Epoch 82/220\n",
      "209/209 [==============================] - 26s 124ms/step - loss: 0.3225 - accuracy: 0.9011 - val_loss: 0.1852 - val_accuracy: 0.9410\n",
      "Epoch 83/220\n",
      "209/209 [==============================] - 24s 115ms/step - loss: 0.3110 - accuracy: 0.9022 - val_loss: 0.1792 - val_accuracy: 0.9454cy:  - ETA: 1s -\n",
      "Epoch 84/220\n",
      "209/209 [==============================] - 25s 121ms/step - loss: 0.3033 - accuracy: 0.9054 - val_loss: 0.1712 - val_accuracy: 0.9453\n",
      "Epoch 85/220\n",
      "209/209 [==============================] - 25s 120ms/step - loss: 0.3072 - accuracy: 0.9024 - val_loss: 0.1641 - val_accuracy: 0.9510- loss: \n",
      "Epoch 86/220\n",
      "209/209 [==============================] - 25s 119ms/step - loss: 0.2968 - accuracy: 0.9074 - val_loss: 0.1680 - val_accuracy: 0.9491oss: 0.2894 - ac - E - ETA: 14s - loss: - ETA: 3s -\n",
      "Epoch 87/220\n",
      "209/209 [==============================] - 25s 117ms/step - loss: 0.2997 - accuracy: 0.9094 - val_loss: 0.1776 - val_accuracy: 0.9467\n",
      "Epoch 88/220\n",
      "209/209 [==============================] - 26s 124ms/step - loss: 0.3032 - accuracy: 0.9053 - val_loss: 0.1832 - val_accuracy: 0.9413\n",
      "Epoch 89/220\n",
      "209/209 [==============================] - 26s 124ms/step - loss: 0.2905 - accuracy: 0.9083 - val_loss: 0.1714 - val_accuracy: 0.9456\n",
      "Epoch 90/220\n",
      "209/209 [==============================] - 25s 121ms/step - loss: 0.2889 - accuracy: 0.9098 - val_loss: 0.1590 - val_accuracy: 0.9523 - accuracy:  - ETA: 4s - loss: - ETA: 2s - loss: 0.2885 - accuracy - ETA: 0s - loss: 0.2888 - accuracy: 0.\n",
      "Epoch 91/220\n",
      "209/209 [==============================] - 26s 124ms/step - loss: 0.2865 - accuracy: 0.9102 - val_loss: 0.1737 - val_accuracy: 0.9482\n",
      "Epoch 92/220\n",
      "209/209 [==============================] - 26s 127ms/step - loss: 0.2772 - accuracy: 0.9139 - val_loss: 0.1686 - val_accuracy: 0.9501\n",
      "Epoch 93/220\n",
      "209/209 [==============================] - 26s 123ms/step - loss: 0.2786 - accuracy: 0.9117 - val_loss: 0.1557 - val_accuracy: 0.9533- loss: 0.2725 - accuracy: - ETA: 11s -\n",
      "Epoch 94/220\n",
      "209/209 [==============================] - 26s 124ms/step - loss: 0.2699 - accuracy: 0.9147 - val_loss: 0.1551 - val_accuracy: 0.9503\n",
      "Epoch 95/220\n",
      "209/209 [==============================] - 26s 123ms/step - loss: 0.2728 - accuracy: 0.9150 - val_loss: 0.1487 - val_accuracy: 0.9542727 - accuracy - ETA: 6s - l\n",
      "Epoch 96/220\n",
      "209/209 [==============================] - 26s 123ms/step - loss: 0.2749 - accuracy: 0.9129 - val_loss: 0.1610 - val_accuracy: 0.9477\n",
      "Epoch 97/220\n",
      "209/209 [==============================] - 26s 123ms/step - loss: 0.2642 - accuracy: 0.9186 - val_loss: 0.1504 - val_accuracy: 0.9554\n",
      "Epoch 98/220\n",
      "209/209 [==============================] - 25s 121ms/step - loss: 0.2658 - accuracy: 0.9160 - val_loss: 0.1590 - val_accuracy: 0.9527\n",
      "Epoch 99/220\n",
      "209/209 [==============================] - 27s 128ms/step - loss: 0.2584 - accuracy: 0.9195 - val_loss: 0.1552 - val_accuracy: 0.9501\n",
      "Epoch 100/220\n",
      "209/209 [==============================] - 25s 121ms/step - loss: 0.2579 - accuracy: 0.9197 - val_loss: 0.1528 - val_accuracy: 0.9556\n",
      "Epoch 101/220\n",
      "209/209 [==============================] - 25s 120ms/step - loss: 0.2625 - accuracy: 0.9176 - val_loss: 0.1573 - val_accuracy: 0.9494- accuracy: 0.91 - ETA: 17s - loss: 0.2561 - accuracy:  - ETA: 4s - loss: 0.262 - ETA: 3s - - E\n",
      "Epoch 102/220\n",
      "209/209 [==============================] - 25s 120ms/step - loss: 0.2550 - accuracy: 0.9218 - val_loss: 0.1540 - val_accuracy: 0.95240.2 - ETA: 3s - loss: 0.2 - ETA: 2s - loss: 0.2549 - accu - ETA: \n",
      "Epoch 103/220\n",
      "209/209 [==============================] - 26s 124ms/step - loss: 0.2496 - accuracy: 0.9231 - val_loss: 0.1497 - val_accuracy: 0.9551ss: 0\n",
      "Epoch 104/220\n",
      "209/209 [==============================] - 26s 125ms/step - loss: 0.2446 - accuracy: 0.9249 - val_loss: 0.1535 - val_accuracy: 0.9537 0.926 - ETA: 14s - loss: 0.2411 - a - ETA: 13s - loss: 0.2421 - accuracy: 0. - ETA: 12s - loss: 0.2423 - accuracy: 0. - ETA: 12 - ETA - ETA: 2s - loss: 0.2444  - ETA: 1s - l\n",
      "Epoch 105/220\n",
      "209/209 [==============================] - 28s 132ms/step - loss: 0.2410 - accuracy: 0.9228 - val_loss: 0.1572 - val_accuracy: 0.9532\n",
      "Epoch 106/220\n",
      "209/209 [==============================] - 26s 122ms/step - loss: 0.2431 - accuracy: 0.9228 - val_loss: 0.1573 - val_accuracy: 0.9519\n",
      "Epoch 107/220\n",
      "209/209 [==============================] - 27s 129ms/step - loss: 0.2424 - accuracy: 0.9265 - val_loss: 0.1555 - val_accuracy: 0.9510 ETA: 2s - loss: 0.2428 - accu - ETA: 1s\n",
      "Epoch 108/220\n",
      "209/209 [==============================] - 28s 135ms/step - loss: 0.2345 - accuracy: 0.9262 - val_loss: 0.1417 - val_accuracy: 0.9568\n",
      "Epoch 109/220\n",
      "209/209 [==============================] - 55s 262ms/step - loss: 0.2401 - accuracy: 0.9255 - val_loss: 0.1463 - val_accuracy: 0.9542\n",
      "Epoch 110/220\n",
      " 15/209 [=>............................] - ETA: 43s - loss: 0.2257 - accuracy: 0.9324"
     ]
    },
    {
     "ename": "InternalError",
     "evalue": "Could not synchronize CUDA stream: CUDA_ERROR_ILLEGAL_ADDRESS: an illegal memory access was encountered",
     "output_type": "error",
     "traceback": [
      "\u001b[1;31m---------------------------------------------------------------------------\u001b[0m",
      "\u001b[1;31mInternalError\u001b[0m                             Traceback (most recent call last)",
      "\u001b[1;32m<ipython-input-14-cfb47b463b5b>\u001b[0m in \u001b[0;36m<module>\u001b[1;34m\u001b[0m\n\u001b[1;32m----> 1\u001b[1;33m history = lenet.fit(\n\u001b[0m\u001b[0;32m      2\u001b[0m       \u001b[0mtrain_data\u001b[0m\u001b[1;33m,\u001b[0m\u001b[1;33m\u001b[0m\u001b[1;33m\u001b[0m\u001b[0m\n\u001b[0;32m      3\u001b[0m       \u001b[0msteps_per_epoch\u001b[0m\u001b[1;33m=\u001b[0m \u001b[0mtrain_data\u001b[0m\u001b[1;33m.\u001b[0m\u001b[0msamples\u001b[0m \u001b[1;33m//\u001b[0m \u001b[0mBATCH_SIZE\u001b[0m\u001b[1;33m,\u001b[0m  \u001b[1;31m# One pass through entire training dataset\u001b[0m\u001b[1;33m\u001b[0m\u001b[1;33m\u001b[0m\u001b[0m\n\u001b[0;32m      4\u001b[0m       \u001b[0mepochs\u001b[0m\u001b[1;33m=\u001b[0m\u001b[1;36m220\u001b[0m\u001b[1;33m,\u001b[0m\u001b[1;33m\u001b[0m\u001b[1;33m\u001b[0m\u001b[0m\n\u001b[0;32m      5\u001b[0m       \u001b[0mvalidation_data\u001b[0m\u001b[1;33m=\u001b[0m\u001b[0mval_data\u001b[0m\u001b[1;33m,\u001b[0m\u001b[1;33m\u001b[0m\u001b[1;33m\u001b[0m\u001b[0m\n",
      "\u001b[1;32m~\\Anaconda3\\envs\\tensorflow2.4-gpu\\lib\\site-packages\\tensorflow\\python\\keras\\engine\\training.py\u001b[0m in \u001b[0;36mfit\u001b[1;34m(self, x, y, batch_size, epochs, verbose, callbacks, validation_split, validation_data, shuffle, class_weight, sample_weight, initial_epoch, steps_per_epoch, validation_steps, validation_batch_size, validation_freq, max_queue_size, workers, use_multiprocessing)\u001b[0m\n\u001b[0;32m   1103\u001b[0m               \u001b[0mlogs\u001b[0m \u001b[1;33m=\u001b[0m \u001b[0mtmp_logs\u001b[0m  \u001b[1;31m# No error, now safe to assign to logs.\u001b[0m\u001b[1;33m\u001b[0m\u001b[1;33m\u001b[0m\u001b[0m\n\u001b[0;32m   1104\u001b[0m               \u001b[0mend_step\u001b[0m \u001b[1;33m=\u001b[0m \u001b[0mstep\u001b[0m \u001b[1;33m+\u001b[0m \u001b[0mdata_handler\u001b[0m\u001b[1;33m.\u001b[0m\u001b[0mstep_increment\u001b[0m\u001b[1;33m\u001b[0m\u001b[1;33m\u001b[0m\u001b[0m\n\u001b[1;32m-> 1105\u001b[1;33m               \u001b[0mcallbacks\u001b[0m\u001b[1;33m.\u001b[0m\u001b[0mon_train_batch_end\u001b[0m\u001b[1;33m(\u001b[0m\u001b[0mend_step\u001b[0m\u001b[1;33m,\u001b[0m \u001b[0mlogs\u001b[0m\u001b[1;33m)\u001b[0m\u001b[1;33m\u001b[0m\u001b[1;33m\u001b[0m\u001b[0m\n\u001b[0m\u001b[0;32m   1106\u001b[0m               \u001b[1;32mif\u001b[0m \u001b[0mself\u001b[0m\u001b[1;33m.\u001b[0m\u001b[0mstop_training\u001b[0m\u001b[1;33m:\u001b[0m\u001b[1;33m\u001b[0m\u001b[1;33m\u001b[0m\u001b[0m\n\u001b[0;32m   1107\u001b[0m                 \u001b[1;32mbreak\u001b[0m\u001b[1;33m\u001b[0m\u001b[1;33m\u001b[0m\u001b[0m\n",
      "\u001b[1;32m~\\Anaconda3\\envs\\tensorflow2.4-gpu\\lib\\site-packages\\tensorflow\\python\\keras\\callbacks.py\u001b[0m in \u001b[0;36mon_train_batch_end\u001b[1;34m(self, batch, logs)\u001b[0m\n\u001b[0;32m    452\u001b[0m     \"\"\"\n\u001b[0;32m    453\u001b[0m     \u001b[1;32mif\u001b[0m \u001b[0mself\u001b[0m\u001b[1;33m.\u001b[0m\u001b[0m_should_call_train_batch_hooks\u001b[0m\u001b[1;33m:\u001b[0m\u001b[1;33m\u001b[0m\u001b[1;33m\u001b[0m\u001b[0m\n\u001b[1;32m--> 454\u001b[1;33m       \u001b[0mself\u001b[0m\u001b[1;33m.\u001b[0m\u001b[0m_call_batch_hook\u001b[0m\u001b[1;33m(\u001b[0m\u001b[0mModeKeys\u001b[0m\u001b[1;33m.\u001b[0m\u001b[0mTRAIN\u001b[0m\u001b[1;33m,\u001b[0m \u001b[1;34m'end'\u001b[0m\u001b[1;33m,\u001b[0m \u001b[0mbatch\u001b[0m\u001b[1;33m,\u001b[0m \u001b[0mlogs\u001b[0m\u001b[1;33m=\u001b[0m\u001b[0mlogs\u001b[0m\u001b[1;33m)\u001b[0m\u001b[1;33m\u001b[0m\u001b[1;33m\u001b[0m\u001b[0m\n\u001b[0m\u001b[0;32m    455\u001b[0m \u001b[1;33m\u001b[0m\u001b[0m\n\u001b[0;32m    456\u001b[0m   \u001b[1;32mdef\u001b[0m \u001b[0mon_test_batch_begin\u001b[0m\u001b[1;33m(\u001b[0m\u001b[0mself\u001b[0m\u001b[1;33m,\u001b[0m \u001b[0mbatch\u001b[0m\u001b[1;33m,\u001b[0m \u001b[0mlogs\u001b[0m\u001b[1;33m=\u001b[0m\u001b[1;32mNone\u001b[0m\u001b[1;33m)\u001b[0m\u001b[1;33m:\u001b[0m\u001b[1;33m\u001b[0m\u001b[1;33m\u001b[0m\u001b[0m\n",
      "\u001b[1;32m~\\Anaconda3\\envs\\tensorflow2.4-gpu\\lib\\site-packages\\tensorflow\\python\\keras\\callbacks.py\u001b[0m in \u001b[0;36m_call_batch_hook\u001b[1;34m(self, mode, hook, batch, logs)\u001b[0m\n\u001b[0;32m    294\u001b[0m       \u001b[0mself\u001b[0m\u001b[1;33m.\u001b[0m\u001b[0m_call_batch_begin_hook\u001b[0m\u001b[1;33m(\u001b[0m\u001b[0mmode\u001b[0m\u001b[1;33m,\u001b[0m \u001b[0mbatch\u001b[0m\u001b[1;33m,\u001b[0m \u001b[0mlogs\u001b[0m\u001b[1;33m)\u001b[0m\u001b[1;33m\u001b[0m\u001b[1;33m\u001b[0m\u001b[0m\n\u001b[0;32m    295\u001b[0m     \u001b[1;32melif\u001b[0m \u001b[0mhook\u001b[0m \u001b[1;33m==\u001b[0m \u001b[1;34m'end'\u001b[0m\u001b[1;33m:\u001b[0m\u001b[1;33m\u001b[0m\u001b[1;33m\u001b[0m\u001b[0m\n\u001b[1;32m--> 296\u001b[1;33m       \u001b[0mself\u001b[0m\u001b[1;33m.\u001b[0m\u001b[0m_call_batch_end_hook\u001b[0m\u001b[1;33m(\u001b[0m\u001b[0mmode\u001b[0m\u001b[1;33m,\u001b[0m \u001b[0mbatch\u001b[0m\u001b[1;33m,\u001b[0m \u001b[0mlogs\u001b[0m\u001b[1;33m)\u001b[0m\u001b[1;33m\u001b[0m\u001b[1;33m\u001b[0m\u001b[0m\n\u001b[0m\u001b[0;32m    297\u001b[0m     \u001b[1;32melse\u001b[0m\u001b[1;33m:\u001b[0m\u001b[1;33m\u001b[0m\u001b[1;33m\u001b[0m\u001b[0m\n\u001b[0;32m    298\u001b[0m       \u001b[1;32mraise\u001b[0m \u001b[0mValueError\u001b[0m\u001b[1;33m(\u001b[0m\u001b[1;34m'Unrecognized hook: {}'\u001b[0m\u001b[1;33m.\u001b[0m\u001b[0mformat\u001b[0m\u001b[1;33m(\u001b[0m\u001b[0mhook\u001b[0m\u001b[1;33m)\u001b[0m\u001b[1;33m)\u001b[0m\u001b[1;33m\u001b[0m\u001b[1;33m\u001b[0m\u001b[0m\n",
      "\u001b[1;32m~\\Anaconda3\\envs\\tensorflow2.4-gpu\\lib\\site-packages\\tensorflow\\python\\keras\\callbacks.py\u001b[0m in \u001b[0;36m_call_batch_end_hook\u001b[1;34m(self, mode, batch, logs)\u001b[0m\n\u001b[0;32m    314\u001b[0m       \u001b[0mself\u001b[0m\u001b[1;33m.\u001b[0m\u001b[0m_batch_times\u001b[0m\u001b[1;33m.\u001b[0m\u001b[0mappend\u001b[0m\u001b[1;33m(\u001b[0m\u001b[0mbatch_time\u001b[0m\u001b[1;33m)\u001b[0m\u001b[1;33m\u001b[0m\u001b[1;33m\u001b[0m\u001b[0m\n\u001b[0;32m    315\u001b[0m \u001b[1;33m\u001b[0m\u001b[0m\n\u001b[1;32m--> 316\u001b[1;33m     \u001b[0mself\u001b[0m\u001b[1;33m.\u001b[0m\u001b[0m_call_batch_hook_helper\u001b[0m\u001b[1;33m(\u001b[0m\u001b[0mhook_name\u001b[0m\u001b[1;33m,\u001b[0m \u001b[0mbatch\u001b[0m\u001b[1;33m,\u001b[0m \u001b[0mlogs\u001b[0m\u001b[1;33m)\u001b[0m\u001b[1;33m\u001b[0m\u001b[1;33m\u001b[0m\u001b[0m\n\u001b[0m\u001b[0;32m    317\u001b[0m \u001b[1;33m\u001b[0m\u001b[0m\n\u001b[0;32m    318\u001b[0m     \u001b[1;32mif\u001b[0m \u001b[0mlen\u001b[0m\u001b[1;33m(\u001b[0m\u001b[0mself\u001b[0m\u001b[1;33m.\u001b[0m\u001b[0m_batch_times\u001b[0m\u001b[1;33m)\u001b[0m \u001b[1;33m>=\u001b[0m \u001b[0mself\u001b[0m\u001b[1;33m.\u001b[0m\u001b[0m_num_batches_for_timing_check\u001b[0m\u001b[1;33m:\u001b[0m\u001b[1;33m\u001b[0m\u001b[1;33m\u001b[0m\u001b[0m\n",
      "\u001b[1;32m~\\Anaconda3\\envs\\tensorflow2.4-gpu\\lib\\site-packages\\tensorflow\\python\\keras\\callbacks.py\u001b[0m in \u001b[0;36m_call_batch_hook_helper\u001b[1;34m(self, hook_name, batch, logs)\u001b[0m\n\u001b[0;32m    354\u001b[0m       \u001b[0mhook\u001b[0m \u001b[1;33m=\u001b[0m \u001b[0mgetattr\u001b[0m\u001b[1;33m(\u001b[0m\u001b[0mcallback\u001b[0m\u001b[1;33m,\u001b[0m \u001b[0mhook_name\u001b[0m\u001b[1;33m)\u001b[0m\u001b[1;33m\u001b[0m\u001b[1;33m\u001b[0m\u001b[0m\n\u001b[0;32m    355\u001b[0m       \u001b[1;32mif\u001b[0m \u001b[0mgetattr\u001b[0m\u001b[1;33m(\u001b[0m\u001b[0mcallback\u001b[0m\u001b[1;33m,\u001b[0m \u001b[1;34m'_supports_tf_logs'\u001b[0m\u001b[1;33m,\u001b[0m \u001b[1;32mFalse\u001b[0m\u001b[1;33m)\u001b[0m\u001b[1;33m:\u001b[0m\u001b[1;33m\u001b[0m\u001b[1;33m\u001b[0m\u001b[0m\n\u001b[1;32m--> 356\u001b[1;33m         \u001b[0mhook\u001b[0m\u001b[1;33m(\u001b[0m\u001b[0mbatch\u001b[0m\u001b[1;33m,\u001b[0m \u001b[0mlogs\u001b[0m\u001b[1;33m)\u001b[0m\u001b[1;33m\u001b[0m\u001b[1;33m\u001b[0m\u001b[0m\n\u001b[0m\u001b[0;32m    357\u001b[0m       \u001b[1;32melse\u001b[0m\u001b[1;33m:\u001b[0m\u001b[1;33m\u001b[0m\u001b[1;33m\u001b[0m\u001b[0m\n\u001b[0;32m    358\u001b[0m         \u001b[1;32mif\u001b[0m \u001b[0mnumpy_logs\u001b[0m \u001b[1;32mis\u001b[0m \u001b[1;32mNone\u001b[0m\u001b[1;33m:\u001b[0m  \u001b[1;31m# Only convert once.\u001b[0m\u001b[1;33m\u001b[0m\u001b[1;33m\u001b[0m\u001b[0m\n",
      "\u001b[1;32m~\\Anaconda3\\envs\\tensorflow2.4-gpu\\lib\\site-packages\\tensorflow\\python\\keras\\callbacks.py\u001b[0m in \u001b[0;36mon_train_batch_end\u001b[1;34m(self, batch, logs)\u001b[0m\n\u001b[0;32m   1018\u001b[0m \u001b[1;33m\u001b[0m\u001b[0m\n\u001b[0;32m   1019\u001b[0m   \u001b[1;32mdef\u001b[0m \u001b[0mon_train_batch_end\u001b[0m\u001b[1;33m(\u001b[0m\u001b[0mself\u001b[0m\u001b[1;33m,\u001b[0m \u001b[0mbatch\u001b[0m\u001b[1;33m,\u001b[0m \u001b[0mlogs\u001b[0m\u001b[1;33m=\u001b[0m\u001b[1;32mNone\u001b[0m\u001b[1;33m)\u001b[0m\u001b[1;33m:\u001b[0m\u001b[1;33m\u001b[0m\u001b[1;33m\u001b[0m\u001b[0m\n\u001b[1;32m-> 1020\u001b[1;33m     \u001b[0mself\u001b[0m\u001b[1;33m.\u001b[0m\u001b[0m_batch_update_progbar\u001b[0m\u001b[1;33m(\u001b[0m\u001b[0mbatch\u001b[0m\u001b[1;33m,\u001b[0m \u001b[0mlogs\u001b[0m\u001b[1;33m)\u001b[0m\u001b[1;33m\u001b[0m\u001b[1;33m\u001b[0m\u001b[0m\n\u001b[0m\u001b[0;32m   1021\u001b[0m \u001b[1;33m\u001b[0m\u001b[0m\n\u001b[0;32m   1022\u001b[0m   \u001b[1;32mdef\u001b[0m \u001b[0mon_test_batch_end\u001b[0m\u001b[1;33m(\u001b[0m\u001b[0mself\u001b[0m\u001b[1;33m,\u001b[0m \u001b[0mbatch\u001b[0m\u001b[1;33m,\u001b[0m \u001b[0mlogs\u001b[0m\u001b[1;33m=\u001b[0m\u001b[1;32mNone\u001b[0m\u001b[1;33m)\u001b[0m\u001b[1;33m:\u001b[0m\u001b[1;33m\u001b[0m\u001b[1;33m\u001b[0m\u001b[0m\n",
      "\u001b[1;32m~\\Anaconda3\\envs\\tensorflow2.4-gpu\\lib\\site-packages\\tensorflow\\python\\keras\\callbacks.py\u001b[0m in \u001b[0;36m_batch_update_progbar\u001b[1;34m(self, batch, logs)\u001b[0m\n\u001b[0;32m   1082\u001b[0m     \u001b[1;32mif\u001b[0m \u001b[0mself\u001b[0m\u001b[1;33m.\u001b[0m\u001b[0mverbose\u001b[0m \u001b[1;33m==\u001b[0m \u001b[1;36m1\u001b[0m\u001b[1;33m:\u001b[0m\u001b[1;33m\u001b[0m\u001b[1;33m\u001b[0m\u001b[0m\n\u001b[0;32m   1083\u001b[0m       \u001b[1;31m# Only block async when verbose = 1.\u001b[0m\u001b[1;33m\u001b[0m\u001b[1;33m\u001b[0m\u001b[1;33m\u001b[0m\u001b[0m\n\u001b[1;32m-> 1084\u001b[1;33m       \u001b[0mlogs\u001b[0m \u001b[1;33m=\u001b[0m \u001b[0mtf_utils\u001b[0m\u001b[1;33m.\u001b[0m\u001b[0mto_numpy_or_python_type\u001b[0m\u001b[1;33m(\u001b[0m\u001b[0mlogs\u001b[0m\u001b[1;33m)\u001b[0m\u001b[1;33m\u001b[0m\u001b[1;33m\u001b[0m\u001b[0m\n\u001b[0m\u001b[0;32m   1085\u001b[0m       \u001b[0mself\u001b[0m\u001b[1;33m.\u001b[0m\u001b[0mprogbar\u001b[0m\u001b[1;33m.\u001b[0m\u001b[0mupdate\u001b[0m\u001b[1;33m(\u001b[0m\u001b[0mself\u001b[0m\u001b[1;33m.\u001b[0m\u001b[0mseen\u001b[0m\u001b[1;33m,\u001b[0m \u001b[0mlist\u001b[0m\u001b[1;33m(\u001b[0m\u001b[0mlogs\u001b[0m\u001b[1;33m.\u001b[0m\u001b[0mitems\u001b[0m\u001b[1;33m(\u001b[0m\u001b[1;33m)\u001b[0m\u001b[1;33m)\u001b[0m\u001b[1;33m,\u001b[0m \u001b[0mfinalize\u001b[0m\u001b[1;33m=\u001b[0m\u001b[1;32mFalse\u001b[0m\u001b[1;33m)\u001b[0m\u001b[1;33m\u001b[0m\u001b[1;33m\u001b[0m\u001b[0m\n\u001b[0;32m   1086\u001b[0m \u001b[1;33m\u001b[0m\u001b[0m\n",
      "\u001b[1;32m~\\Anaconda3\\envs\\tensorflow2.4-gpu\\lib\\site-packages\\tensorflow\\python\\keras\\utils\\tf_utils.py\u001b[0m in \u001b[0;36mto_numpy_or_python_type\u001b[1;34m(tensors)\u001b[0m\n\u001b[0;32m    512\u001b[0m     \u001b[1;32mreturn\u001b[0m \u001b[0mt\u001b[0m  \u001b[1;31m# Don't turn ragged or sparse tensors to NumPy.\u001b[0m\u001b[1;33m\u001b[0m\u001b[1;33m\u001b[0m\u001b[0m\n\u001b[0;32m    513\u001b[0m \u001b[1;33m\u001b[0m\u001b[0m\n\u001b[1;32m--> 514\u001b[1;33m   \u001b[1;32mreturn\u001b[0m \u001b[0mnest\u001b[0m\u001b[1;33m.\u001b[0m\u001b[0mmap_structure\u001b[0m\u001b[1;33m(\u001b[0m\u001b[0m_to_single_numpy_or_python_type\u001b[0m\u001b[1;33m,\u001b[0m \u001b[0mtensors\u001b[0m\u001b[1;33m)\u001b[0m\u001b[1;33m\u001b[0m\u001b[1;33m\u001b[0m\u001b[0m\n\u001b[0m\u001b[0;32m    515\u001b[0m \u001b[1;33m\u001b[0m\u001b[0m\n\u001b[0;32m    516\u001b[0m \u001b[1;33m\u001b[0m\u001b[0m\n",
      "\u001b[1;32m~\\Anaconda3\\envs\\tensorflow2.4-gpu\\lib\\site-packages\\tensorflow\\python\\util\\nest.py\u001b[0m in \u001b[0;36mmap_structure\u001b[1;34m(func, *structure, **kwargs)\u001b[0m\n\u001b[0;32m    657\u001b[0m \u001b[1;33m\u001b[0m\u001b[0m\n\u001b[0;32m    658\u001b[0m   return pack_sequence_as(\n\u001b[1;32m--> 659\u001b[1;33m       \u001b[0mstructure\u001b[0m\u001b[1;33m[\u001b[0m\u001b[1;36m0\u001b[0m\u001b[1;33m]\u001b[0m\u001b[1;33m,\u001b[0m \u001b[1;33m[\u001b[0m\u001b[0mfunc\u001b[0m\u001b[1;33m(\u001b[0m\u001b[1;33m*\u001b[0m\u001b[0mx\u001b[0m\u001b[1;33m)\u001b[0m \u001b[1;32mfor\u001b[0m \u001b[0mx\u001b[0m \u001b[1;32min\u001b[0m \u001b[0mentries\u001b[0m\u001b[1;33m]\u001b[0m\u001b[1;33m,\u001b[0m\u001b[1;33m\u001b[0m\u001b[1;33m\u001b[0m\u001b[0m\n\u001b[0m\u001b[0;32m    660\u001b[0m       expand_composites=expand_composites)\n\u001b[0;32m    661\u001b[0m \u001b[1;33m\u001b[0m\u001b[0m\n",
      "\u001b[1;32m~\\Anaconda3\\envs\\tensorflow2.4-gpu\\lib\\site-packages\\tensorflow\\python\\util\\nest.py\u001b[0m in \u001b[0;36m<listcomp>\u001b[1;34m(.0)\u001b[0m\n\u001b[0;32m    657\u001b[0m \u001b[1;33m\u001b[0m\u001b[0m\n\u001b[0;32m    658\u001b[0m   return pack_sequence_as(\n\u001b[1;32m--> 659\u001b[1;33m       \u001b[0mstructure\u001b[0m\u001b[1;33m[\u001b[0m\u001b[1;36m0\u001b[0m\u001b[1;33m]\u001b[0m\u001b[1;33m,\u001b[0m \u001b[1;33m[\u001b[0m\u001b[0mfunc\u001b[0m\u001b[1;33m(\u001b[0m\u001b[1;33m*\u001b[0m\u001b[0mx\u001b[0m\u001b[1;33m)\u001b[0m \u001b[1;32mfor\u001b[0m \u001b[0mx\u001b[0m \u001b[1;32min\u001b[0m \u001b[0mentries\u001b[0m\u001b[1;33m]\u001b[0m\u001b[1;33m,\u001b[0m\u001b[1;33m\u001b[0m\u001b[1;33m\u001b[0m\u001b[0m\n\u001b[0m\u001b[0;32m    660\u001b[0m       expand_composites=expand_composites)\n\u001b[0;32m    661\u001b[0m \u001b[1;33m\u001b[0m\u001b[0m\n",
      "\u001b[1;32m~\\Anaconda3\\envs\\tensorflow2.4-gpu\\lib\\site-packages\\tensorflow\\python\\keras\\utils\\tf_utils.py\u001b[0m in \u001b[0;36m_to_single_numpy_or_python_type\u001b[1;34m(t)\u001b[0m\n\u001b[0;32m    508\u001b[0m   \u001b[1;32mdef\u001b[0m \u001b[0m_to_single_numpy_or_python_type\u001b[0m\u001b[1;33m(\u001b[0m\u001b[0mt\u001b[0m\u001b[1;33m)\u001b[0m\u001b[1;33m:\u001b[0m\u001b[1;33m\u001b[0m\u001b[1;33m\u001b[0m\u001b[0m\n\u001b[0;32m    509\u001b[0m     \u001b[1;32mif\u001b[0m \u001b[0misinstance\u001b[0m\u001b[1;33m(\u001b[0m\u001b[0mt\u001b[0m\u001b[1;33m,\u001b[0m \u001b[0mops\u001b[0m\u001b[1;33m.\u001b[0m\u001b[0mTensor\u001b[0m\u001b[1;33m)\u001b[0m\u001b[1;33m:\u001b[0m\u001b[1;33m\u001b[0m\u001b[1;33m\u001b[0m\u001b[0m\n\u001b[1;32m--> 510\u001b[1;33m       \u001b[0mx\u001b[0m \u001b[1;33m=\u001b[0m \u001b[0mt\u001b[0m\u001b[1;33m.\u001b[0m\u001b[0mnumpy\u001b[0m\u001b[1;33m(\u001b[0m\u001b[1;33m)\u001b[0m\u001b[1;33m\u001b[0m\u001b[1;33m\u001b[0m\u001b[0m\n\u001b[0m\u001b[0;32m    511\u001b[0m       \u001b[1;32mreturn\u001b[0m \u001b[0mx\u001b[0m\u001b[1;33m.\u001b[0m\u001b[0mitem\u001b[0m\u001b[1;33m(\u001b[0m\u001b[1;33m)\u001b[0m \u001b[1;32mif\u001b[0m \u001b[0mnp\u001b[0m\u001b[1;33m.\u001b[0m\u001b[0mndim\u001b[0m\u001b[1;33m(\u001b[0m\u001b[0mx\u001b[0m\u001b[1;33m)\u001b[0m \u001b[1;33m==\u001b[0m \u001b[1;36m0\u001b[0m \u001b[1;32melse\u001b[0m \u001b[0mx\u001b[0m\u001b[1;33m\u001b[0m\u001b[1;33m\u001b[0m\u001b[0m\n\u001b[0;32m    512\u001b[0m     \u001b[1;32mreturn\u001b[0m \u001b[0mt\u001b[0m  \u001b[1;31m# Don't turn ragged or sparse tensors to NumPy.\u001b[0m\u001b[1;33m\u001b[0m\u001b[1;33m\u001b[0m\u001b[0m\n",
      "\u001b[1;32m~\\Anaconda3\\envs\\tensorflow2.4-gpu\\lib\\site-packages\\tensorflow\\python\\framework\\ops.py\u001b[0m in \u001b[0;36mnumpy\u001b[1;34m(self)\u001b[0m\n\u001b[0;32m   1069\u001b[0m     \"\"\"\n\u001b[0;32m   1070\u001b[0m     \u001b[1;31m# TODO(slebedev): Consider avoiding a copy for non-CPU or remote tensors.\u001b[0m\u001b[1;33m\u001b[0m\u001b[1;33m\u001b[0m\u001b[1;33m\u001b[0m\u001b[0m\n\u001b[1;32m-> 1071\u001b[1;33m     \u001b[0mmaybe_arr\u001b[0m \u001b[1;33m=\u001b[0m \u001b[0mself\u001b[0m\u001b[1;33m.\u001b[0m\u001b[0m_numpy\u001b[0m\u001b[1;33m(\u001b[0m\u001b[1;33m)\u001b[0m  \u001b[1;31m# pylint: disable=protected-access\u001b[0m\u001b[1;33m\u001b[0m\u001b[1;33m\u001b[0m\u001b[0m\n\u001b[0m\u001b[0;32m   1072\u001b[0m     \u001b[1;32mreturn\u001b[0m \u001b[0mmaybe_arr\u001b[0m\u001b[1;33m.\u001b[0m\u001b[0mcopy\u001b[0m\u001b[1;33m(\u001b[0m\u001b[1;33m)\u001b[0m \u001b[1;32mif\u001b[0m \u001b[0misinstance\u001b[0m\u001b[1;33m(\u001b[0m\u001b[0mmaybe_arr\u001b[0m\u001b[1;33m,\u001b[0m \u001b[0mnp\u001b[0m\u001b[1;33m.\u001b[0m\u001b[0mndarray\u001b[0m\u001b[1;33m)\u001b[0m \u001b[1;32melse\u001b[0m \u001b[0mmaybe_arr\u001b[0m\u001b[1;33m\u001b[0m\u001b[1;33m\u001b[0m\u001b[0m\n\u001b[0;32m   1073\u001b[0m \u001b[1;33m\u001b[0m\u001b[0m\n",
      "\u001b[1;32m~\\Anaconda3\\envs\\tensorflow2.4-gpu\\lib\\site-packages\\tensorflow\\python\\framework\\ops.py\u001b[0m in \u001b[0;36m_numpy\u001b[1;34m(self)\u001b[0m\n\u001b[0;32m   1037\u001b[0m       \u001b[1;32mreturn\u001b[0m \u001b[0mself\u001b[0m\u001b[1;33m.\u001b[0m\u001b[0m_numpy_internal\u001b[0m\u001b[1;33m(\u001b[0m\u001b[1;33m)\u001b[0m\u001b[1;33m\u001b[0m\u001b[1;33m\u001b[0m\u001b[0m\n\u001b[0;32m   1038\u001b[0m     \u001b[1;32mexcept\u001b[0m \u001b[0mcore\u001b[0m\u001b[1;33m.\u001b[0m\u001b[0m_NotOkStatusException\u001b[0m \u001b[1;32mas\u001b[0m \u001b[0me\u001b[0m\u001b[1;33m:\u001b[0m  \u001b[1;31m# pylint: disable=protected-access\u001b[0m\u001b[1;33m\u001b[0m\u001b[1;33m\u001b[0m\u001b[0m\n\u001b[1;32m-> 1039\u001b[1;33m       \u001b[0msix\u001b[0m\u001b[1;33m.\u001b[0m\u001b[0mraise_from\u001b[0m\u001b[1;33m(\u001b[0m\u001b[0mcore\u001b[0m\u001b[1;33m.\u001b[0m\u001b[0m_status_to_exception\u001b[0m\u001b[1;33m(\u001b[0m\u001b[0me\u001b[0m\u001b[1;33m.\u001b[0m\u001b[0mcode\u001b[0m\u001b[1;33m,\u001b[0m \u001b[0me\u001b[0m\u001b[1;33m.\u001b[0m\u001b[0mmessage\u001b[0m\u001b[1;33m)\u001b[0m\u001b[1;33m,\u001b[0m \u001b[1;32mNone\u001b[0m\u001b[1;33m)\u001b[0m  \u001b[1;31m# pylint: disable=protected-access\u001b[0m\u001b[1;33m\u001b[0m\u001b[1;33m\u001b[0m\u001b[0m\n\u001b[0m\u001b[0;32m   1040\u001b[0m \u001b[1;33m\u001b[0m\u001b[0m\n\u001b[0;32m   1041\u001b[0m   \u001b[1;33m@\u001b[0m\u001b[0mproperty\u001b[0m\u001b[1;33m\u001b[0m\u001b[1;33m\u001b[0m\u001b[0m\n",
      "\u001b[1;32m~\\Anaconda3\\envs\\tensorflow2.4-gpu\\lib\\site-packages\\six.py\u001b[0m in \u001b[0;36mraise_from\u001b[1;34m(value, from_value)\u001b[0m\n",
      "\u001b[1;31mInternalError\u001b[0m: Could not synchronize CUDA stream: CUDA_ERROR_ILLEGAL_ADDRESS: an illegal memory access was encountered"
     ]
    }
   ],
   "source": [
    "history = lenet.fit(\n",
    "      train_data,\n",
    "      steps_per_epoch= train_data.samples // BATCH_SIZE,  # One pass through entire training dataset\n",
    "      epochs=220,\n",
    "      validation_data=val_data,\n",
    "      validation_steps= val_data.samples // BATCH_SIZE,  # One pass through entire validation dataset\n",
    "      callbacks=[callback],\n",
    "      verbose=1)"
   ]
  },
  {
   "cell_type": "code",
   "execution_count": null,
   "metadata": {},
   "outputs": [],
   "source": [
    "end_time = datetime.datetime.now()\n",
    "print(end_time)\n",
    "\n",
    "duration = end_time - start_time\n",
    "print(duration)"
   ]
  },
  {
   "cell_type": "markdown",
   "metadata": {},
   "source": [
    "Save model history"
   ]
  },
  {
   "cell_type": "code",
   "execution_count": null,
   "metadata": {},
   "outputs": [],
   "source": [
    "cwd = os.getcwd()\n",
    "model_path = os.path.join(cwd, \"trained_model/lenet_acc98\")"
   ]
  },
  {
   "cell_type": "code",
   "execution_count": null,
   "metadata": {},
   "outputs": [],
   "source": [
    "import pickle\n",
    "\n",
    "class ModelHistory(object):\n",
    "    def __init__(self, history, epoch, params):\n",
    "        self.history = history\n",
    "        self.epoch = epoch\n",
    "        self.params = params\n",
    "\n",
    "with open(model_path+'/history', 'wb') as file:\n",
    "    model_history= ModelHistory(history.history, history.epoch, history.params)\n",
    "    pickle.dump(model_history, file, pickle.HIGHEST_PROTOCOL)"
   ]
  },
  {
   "cell_type": "code",
   "execution_count": null,
   "metadata": {},
   "outputs": [],
   "source": [
    "#Load model history\n",
    "with open(model_path+'/history', 'rb') as file:\n",
    "    history=pickle.load(file)\n",
    "\n",
    "print(history.history)"
   ]
  },
  {
   "cell_type": "code",
   "execution_count": null,
   "metadata": {},
   "outputs": [],
   "source": [
    "acc = history.history['accuracy']\n",
    "val_acc = history.history['val_accuracy']\n",
    "loss = history.history['loss']\n",
    "val_loss = history.history['val_loss']\n",
    "\n",
    "epochs = range(len(acc))\n",
    "\n",
    "plt.plot(epochs, acc, 'bo', label='Training accuracy')\n",
    "plt.plot(epochs, val_acc, 'b', label='Validation accuracy')\n",
    "plt.title('Training and validation accuracy')\n",
    "\n",
    "plt.figure()\n",
    "\n",
    "plt.plot(epochs, loss, 'bo', label='Training Loss')\n",
    "plt.plot(epochs, val_loss, 'b', label='Validation Loss')\n",
    "plt.title('Training and validation loss')\n",
    "plt.legend()\n",
    "\n",
    "plt.show()"
   ]
  },
  {
   "cell_type": "code",
   "execution_count": null,
   "metadata": {},
   "outputs": [],
   "source": [
    "lenet.save('trained_model/lenet_acc98') "
   ]
  },
  {
   "cell_type": "markdown",
   "metadata": {},
   "source": [
    "### Load saved model"
   ]
  },
  {
   "cell_type": "code",
   "execution_count": null,
   "metadata": {},
   "outputs": [],
   "source": [
    "cwd = os.getcwd()\n",
    "model_path = os.path.join(cwd, \"trained_model/lenet_acc96\")\n",
    "lenet = tf.keras.models.load_model(model_path)"
   ]
  },
  {
   "cell_type": "code",
   "execution_count": null,
   "metadata": {},
   "outputs": [],
   "source": [
    "# Get model history\n",
    "history = lenet.history"
   ]
  },
  {
   "cell_type": "code",
   "execution_count": null,
   "metadata": {},
   "outputs": [],
   "source": [
    "results = lenet.evaluate(test_data, batch_size=20)"
   ]
  },
  {
   "cell_type": "code",
   "execution_count": null,
   "metadata": {},
   "outputs": [],
   "source": [
    "X_test_batch, y_test_batch = next(test_data, 15)"
   ]
  },
  {
   "cell_type": "code",
   "execution_count": null,
   "metadata": {},
   "outputs": [],
   "source": [
    "predictions = np.argmax(lenet.predict(X_test_batch, steps=1), axis=1)"
   ]
  },
  {
   "cell_type": "code",
   "execution_count": null,
   "metadata": {},
   "outputs": [],
   "source": [
    "fig, ax = plt.subplots(1, 15, figsize=(20, 5))\n",
    "fig.tight_layout()\n",
    "\n",
    "for i in range(15):\n",
    "    ax[i].imshow(X_test_batch[i].reshape(32, 32))\n",
    "    ax[i].set_title(str(np.argmax(y_test_batch[i])) + \"/\" + str(predictions[i]))\n",
    "    ax[i].axis(\"off\")"
   ]
  },
  {
   "cell_type": "code",
   "execution_count": 15,
   "metadata": {},
   "outputs": [],
   "source": [
    "signs = {}\n",
    "\n",
    "signs_path = os.path.join(cwd, 'data\\Meta')\n",
    "\n",
    "for i, img_name in enumerate(os.listdir(signs_path)):\n",
    "    img_path = os.path.join(signs_path, img_name)\n",
    "    img = tf.keras.preprocessing.image.load_img(img_path, target_size=(500, 500))\n",
    "    signs[i] = img"
   ]
  },
  {
   "cell_type": "code",
   "execution_count": 16,
   "metadata": {
    "tags": []
   },
   "outputs": [],
   "source": [
    "sample_images = {}\n",
    "sample_images_array = {}\n",
    "\n",
    "signs_sample_path = os.path.join(cwd, 'sample_photos')\n",
    "\n",
    "for i, img_name in enumerate(os.listdir(signs_sample_path)):\n",
    "    if not img_name.endswith('.ipynb_checkpoints'):\n",
    "        img_path = os.path.join(signs_sample_path, img_name)\n",
    "        img = tf.keras.preprocessing.image.load_img(img_path, target_size=(32, 32), color_mode=\"grayscale\")\n",
    "        \n",
    "        x = tf.keras.preprocessing.image.img_to_array(img)\n",
    "        x = np.expand_dims(x, axis=0)  # Add a unit dimension at the front\n",
    "        \n",
    "        sample_images_array[img_name.split('.')[0]] = x\n",
    "        sample_images[img_name.split('.')[0]] = img\n"
   ]
  },
  {
   "cell_type": "code",
   "execution_count": 20,
   "metadata": {
    "tags": []
   },
   "outputs": [
    {
     "data": {
      "text/plain": [
       "(1, 32, 32, 1)"
      ]
     },
     "execution_count": 20,
     "metadata": {},
     "output_type": "execute_result"
    }
   ],
   "source": [
    "sample_images_array['sample_1'].shape"
   ]
  },
  {
   "cell_type": "code",
   "execution_count": null,
   "metadata": {},
   "outputs": [],
   "source": [
    "for name, sample in sample_images_array.items():\n",
    "    prediction = np.argmax(lenet.predict(sample, steps=1), axis=1)\n",
    "    print(name, \":\", prediction[0])"
   ]
  },
  {
   "cell_type": "code",
   "execution_count": null,
   "metadata": {},
   "outputs": [],
   "source": [
    "sample_images[\"sample_10a\"]"
   ]
  },
  {
   "cell_type": "code",
   "execution_count": null,
   "metadata": {},
   "outputs": [],
   "source": [
    "signs[3]"
   ]
  },
  {
   "cell_type": "code",
   "execution_count": null,
   "metadata": {},
   "outputs": [],
   "source": []
  }
 ],
 "metadata": {
  "kernelspec": {
   "display_name": "Python 3",
   "language": "python",
   "name": "python3"
  },
  "language_info": {
   "codemirror_mode": {
    "name": "ipython",
    "version": 3
   },
   "file_extension": ".py",
   "mimetype": "text/x-python",
   "name": "python",
   "nbconvert_exporter": "python",
   "pygments_lexer": "ipython3",
   "version": "3.8.0"
  }
 },
 "nbformat": 4,
 "nbformat_minor": 4
}
